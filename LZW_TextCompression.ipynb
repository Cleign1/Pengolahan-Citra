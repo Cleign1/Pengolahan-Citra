{
 "cells": [
  {
   "cell_type": "markdown",
   "metadata": {},
   "source": [
    "## Nama    : Muhamad Ibnu Khaidar Hafiz\n",
    "\n",
    "## Kelas   : 4IA15\n",
    "\n",
    "## NPM     : 50421867"
   ]
  },
  {
   "cell_type": "markdown",
   "metadata": {},
   "source": [
    "# LZW Text Compression\n",
    "\n",
    "**Algoritma LZW (Lempel-Ziv-Welch)** adalah metode kompresi teks yang mengganti pola berulang dalam data dengan kode numerik yang lebih pendek. Algoritma ini menggunakan tabel (*dictionary*) awal berisi simbol unik, seperti karakter ASCII. Saat membaca data, algoritma membentuk pola (*string*), memeriksa apakah pola tersebut sudah ada di tabel, dan jika belum, menambahkannya dengan kode baru sambil menyimpan kode untuk pola sebelumnya sebagai hasil kompresi. Dekompresi dilakukan dengan tabel yang sama untuk menerjemahkan kode kembali ke teks asli. LZW efisien untuk data dengan pola berulang, tidak membutuhkan data tambahan, dan digunakan dalam format seperti GIF dan ZIP."
   ]
  },
  {
   "cell_type": "markdown",
   "metadata": {},
   "source": [
    "### Compressor"
   ]
  },
  {
   "cell_type": "code",
   "execution_count": 1,
   "metadata": {},
   "outputs": [],
   "source": [
    "def compress(uncompressed):\n",
    "    # semua karakter ascii = 0 - 256\n",
    "    dict_size = 256\n",
    "    \n",
    "    # memuat tabel awal dimana setiap karakter ascii dipasangkan dengan indeksnya\n",
    "    dictionary = {chr(i): i for i in range(dict_size)}\n",
    "    \n",
    "    # string kosong untuk menyimpan pola yang saat ini sedang di proses \n",
    "    w = \"\"\n",
    "    # daftar kosong untuk menyimpan kode hasil kompresi\n",
    "    result = []\n",
    "    \n",
    "    # iterasi setiap karakter dalam string uncompressed\n",
    "    for c in uncompressed:\n",
    "        # gabungan karakter w dan c\n",
    "        wc = w + c\n",
    "        # jika pola wc sudah ada di tabel, perbarui menjadi wc\n",
    "        if wc in dictionary:\n",
    "            w = wc\n",
    "        # jika wc tidak ada di tabel, tambahkan kode numerik untuk w (dari tabel) ke hasil kompresi (result)\n",
    "        else:\n",
    "            result.append(dictionary[w])\n",
    "            # tambahkan wc ke tabel\n",
    "            dictionary[wc] = dict_size\n",
    "            # kemudian tingkatkan ukuran tabel\n",
    "            dict_size += 1\n",
    "            w = c\n",
    "            # atur w menjadi karakter c untuk memulai pola baru\n",
    "            \n",
    "    # fungsi biasanya diakhiri dengan menambahkan kode sisa pola (w) ke hasil kompresi.\n",
    "    if w:\n",
    "        result.append(dictionary[w])\n",
    "    return result"
   ]
  },
  {
   "cell_type": "markdown",
   "metadata": {},
   "source": [
    "### Decompressor"
   ]
  },
  {
   "cell_type": "code",
   "execution_count": 2,
   "metadata": {},
   "outputs": [],
   "source": [
    "def decompress(compressed):\n",
    "    # import modul yang diperlukan\n",
    "    from io import StringIO\n",
    "    \n",
    "    # semua karakter ascii = 0 - 256\n",
    "    dict_size = 256\n",
    "    # memuat tabel awal dimana setiap karakter ascii dipasangkan dengan indeksnya\n",
    "    dictionary = {i: chr(i) for i in range(dict_size)}\n",
    "    # membuat objek StringIO untuk menyimpan hasil dekompresi sementara sebagai string yang dapat dimodifikasi dengan efisie\n",
    "    result = StringIO()\n",
    "    # mengambil kode pertama dari compressed dan mengubahnya menjadi karakter\n",
    "    w = chr(compressed.pop(0))\n",
    "    # menulis karakter awal (w) ke hasil dekompresi, variabel w adalah variabel untuk menyimpan pola terakhir yang berhasil dikerjakan\n",
    "    result.write(w)\n",
    "    \n",
    "    # looping untuk setiap kode dalam compressed\n",
    "    for k in compressed:\n",
    "        # jika k ada di tabel dictionary, ambil karakter atau pola yang sesuai dengan k\n",
    "        if k in dictionary:\n",
    "            entry = dictionary[k]\n",
    "        # jika kode k adalah kode baru, buat pola baru entry dengan cara menambahkan karakter pertama dari w ke w itu sendiri.    \n",
    "        elif k == dict_size:\n",
    "            entry = w + w[0]\n",
    "        # jika k tidak ada di tabel dan tidak sesuai dengan ukuran tabel, maka input dianggap salah dan program melempar kesalahan\n",
    "        else:\n",
    "            raise ValueError('Bad compressed k: %s' % k)\n",
    "        # tambahkan pola entry yang berhasil di terjemahkan ke hasil dekompresi\n",
    "        result.write(entry)\n",
    "        # tambahkan pola entry ke tabel dictionary\n",
    "        dictionary[dict_size] = w + entry[0]\n",
    "        # perbarui ukuran tabel agar sesuai\n",
    "        dict_size += 1\n",
    "        \n",
    "        # perbarui w menjadi entry untuk digunakan pada iterasi berikutnya\n",
    "        w = entry\n",
    "        \n",
    "    # kembalikan hasil dekompresi dalam bentuk string\n",
    "    return result.getvalue()"
   ]
  },
  {
   "cell_type": "code",
   "execution_count": 3,
   "metadata": {},
   "outputs": [
    {
     "name": "stdout",
     "output_type": "stream",
     "text": [
      "[66, 65, 256, 257, 65, 260]\n",
      "BABAABAAA\n"
     ]
    }
   ],
   "source": [
    "compressed = compress('BABAABAAA')\n",
    "print (compressed)\n",
    "decompressed = decompress(compressed)\n",
    "print (decompressed)"
   ]
  }
 ],
 "metadata": {
  "kernelspec": {
   "display_name": "Python 3",
   "language": "python",
   "name": "python3"
  },
  "language_info": {
   "codemirror_mode": {
    "name": "ipython",
    "version": 3
   },
   "file_extension": ".py",
   "mimetype": "text/x-python",
   "name": "python",
   "nbconvert_exporter": "python",
   "pygments_lexer": "ipython3",
   "version": "3.11.8"
  }
 },
 "nbformat": 4,
 "nbformat_minor": 2
}
