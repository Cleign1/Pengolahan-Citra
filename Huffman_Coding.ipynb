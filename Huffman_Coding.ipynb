{
 "cells": [
  {
   "cell_type": "markdown",
   "metadata": {},
   "source": [
    "# Huffman Code\n",
    "\n",
    "Algoritma **Huffman Code** adalah metode kompresi data yang memberikan kode biner lebih pendek untuk karakter yang sering muncul dan lebih panjang untuk karakter yang jarang muncul, sehingga mengurangi ukuran data. Cara kerjanya dimulai dengan menghitung frekuensi setiap karakter, lalu membangun pohon Huffman dengan menggabungkan karakter berfrekuensi terendah menjadi simpul baru hingga terbentuk satu pohon lengkap. Setiap cabang kiri diberi angka 0 dan cabang kanan angka 1, menghasilkan kode biner untuk setiap karakter berdasarkan jalurnya di pohon. Misalnya, kata `BABBAC` dengan frekuensi `A: 2`, `B: 3`, `C: 1` akan menghasilkan kode biner `A: 10`, `B: 0`, `C: 11`, sehingga dikompresi menjadi `0100101110`. Huffman Code efisien untuk data dengan karakter yang sering muncul, tidak menghasilkan kode ambigu (prefix-free), tetapi membutuhkan pohon Huffman baru jika data berubah."
   ]
  },
  {
   "cell_type": "code",
   "execution_count": 35,
   "metadata": {},
   "outputs": [],
   "source": [
    "import re\n",
    "\n",
    "def input_function():\n",
    "    user_input = input(\"Masukkan String (Hanya Angka yang diperbolehkan): \")\n",
    "\n",
    "    if not re.fullmatch(r\"[a-zA-Z]+\", user_input):\n",
    "        raise ValueError(f\"Input salah: '{user_input}' mengandung nomor atau simbol atau spasi.\")\n",
    "\n",
    "    result = user_input.upper()\n",
    "    return result"
   ]
  },
  {
   "cell_type": "code",
   "execution_count": 36,
   "metadata": {},
   "outputs": [],
   "source": [
    "class NodeTree(object):\n",
    "\n",
    "    def __init__(self, left=None, right=None):\n",
    "        self.left = left\n",
    "        self.right = right\n",
    "\n",
    "    def children(self):\n",
    "        return (self.left, self.right)\n",
    "\n",
    "    def nodes(self):\n",
    "        return (self.left, self.right)\n",
    "\n",
    "    def __str__(self):\n",
    "        return '%s_%s' % (self.left, self.right)"
   ]
  },
  {
   "cell_type": "code",
   "execution_count": 37,
   "metadata": {},
   "outputs": [],
   "source": [
    "def huffman_code_tree(node, left=True, binString=''):\n",
    "    if type(node) is str:\n",
    "        return {node: binString}\n",
    "    (l, r) = node.children()\n",
    "    d = dict()\n",
    "    d.update(huffman_code_tree(l, True, binString + '0'))\n",
    "    d.update(huffman_code_tree(r, False, binString + '1'))\n",
    "    return d"
   ]
  },
  {
   "cell_type": "code",
   "execution_count": 39,
   "metadata": {},
   "outputs": [
    {
     "name": "stdout",
     "output_type": "stream",
     "text": [
      "String yang anda masukkan adalah: BCCABBDDAECCBBAEDDCC\n"
     ]
    }
   ],
   "source": [
    "try:\n",
    "    result = input_function()\n",
    "    print(\"String yang anda masukkan adalah:\", result)\n",
    "except ValueError as e:\n",
    "    print(e)"
   ]
  },
  {
   "cell_type": "code",
   "execution_count": 41,
   "metadata": {},
   "outputs": [
    {
     "name": "stdout",
     "output_type": "stream",
     "text": [
      " Karakter | Huffman code \n",
      "----------------------\n",
      " 'C'  |          11 | Bits : 12\n",
      " 'B'  |          10 | Bits : 10\n",
      " 'D'  |          00 | Bits : 8\n",
      " 'A'  |         011 | Bits : 9\n",
      " 'E'  |         010 | Bits : 6\n",
      "----------------------\n",
      "Total bits: 45\n"
     ]
    }
   ],
   "source": [
    "freq = {}\n",
    "for c in result:\n",
    "    if c in freq:\n",
    "        freq[c] += 1\n",
    "    else:\n",
    "        freq[c] = 1\n",
    "\n",
    "freq = sorted(freq.items(), key=lambda x: x[1], reverse=True)\n",
    "\n",
    "nodes = freq\n",
    "\n",
    "while len(nodes) > 1:\n",
    "    (key1, c1) = nodes[-1]\n",
    "    (key2, c2) = nodes[-2]\n",
    "    nodes = nodes[:-2]\n",
    "    node = NodeTree(key1, key2)\n",
    "    nodes.append((node, c1 + c2))\n",
    "\n",
    "    nodes = sorted(nodes, key=lambda x: x[1], reverse=True)\n",
    "\n",
    "huffmanCode = huffman_code_tree(nodes[0][0])\n",
    "\n",
    "print(' Karakter | Huffman code ')\n",
    "print('----------------------')\n",
    "\n",
    "total_bits = 0\n",
    "for (char, frequency) in freq:\n",
    "    huffman_bits = len(huffmanCode[char]) * frequency\n",
    "    total_bits += huffman_bits\n",
    "    print(' %-4r |%12s | Bits : %d' % (char, huffmanCode[char], huffman_bits))\n",
    "\n",
    "print('----------------------')\n",
    "print(f'Total bits: {total_bits}')"
   ]
  }
 ],
 "metadata": {
  "language_info": {
   "name": "python"
  }
 },
 "nbformat": 4,
 "nbformat_minor": 2
}
